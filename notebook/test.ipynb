{
 "cells": [
  {
   "cell_type": "code",
   "execution_count": 2,
   "metadata": {},
   "outputs": [],
   "source": [
    "import pandas as pd\n",
    "import numpy as np\n",
    "import matplotlib.pyplot as plt\n",
    "import seaborn as sns\n",
    "from sklearn.model_selection import train_test_split\n",
    "from sklearn.linear_model import LogisticRegression\n",
    "from sklearn.ensemble import RandomForestClassifier\n",
    "from sklearn.metrics import accuracy_score"
   ]
  },
  {
   "cell_type": "code",
   "execution_count": 7,
   "metadata": {},
   "outputs": [],
   "source": [
    "df_train = pd.read_csv(r\"C:\\Users\\cn4330\\OneDrive - BDO AS\\ML\\Kaggle\\kaggle_prediction_rainfall\\data\\train.csv\", index_col=\"id\")\n",
    "df_test = pd.read_csv(r\"C:\\Users\\cn4330\\OneDrive - BDO AS\\ML\\Kaggle\\kaggle_prediction_rainfall\\data\\test.csv\",index_col=\"id\")\n",
    "df_sub = pd.read_csv(r\"C:\\Users\\cn4330\\OneDrive - BDO AS\\ML\\Kaggle\\kaggle_prediction_rainfall\\data\\sample_submission.csv\")"
   ]
  },
  {
   "cell_type": "code",
   "execution_count": 8,
   "metadata": {},
   "outputs": [
    {
     "data": {
      "application/vnd.microsoft.datawrangler.viewer.v0+json": {
       "columns": [
        {
         "name": "id",
         "rawType": "int64",
         "type": "integer"
        },
        {
         "name": "day",
         "rawType": "int64",
         "type": "integer"
        },
        {
         "name": "pressure",
         "rawType": "float64",
         "type": "float"
        },
        {
         "name": "maxtemp",
         "rawType": "float64",
         "type": "float"
        },
        {
         "name": "temparature",
         "rawType": "float64",
         "type": "float"
        },
        {
         "name": "mintemp",
         "rawType": "float64",
         "type": "float"
        },
        {
         "name": "dewpoint",
         "rawType": "float64",
         "type": "float"
        },
        {
         "name": "humidity",
         "rawType": "float64",
         "type": "float"
        },
        {
         "name": "cloud",
         "rawType": "float64",
         "type": "float"
        },
        {
         "name": "sunshine",
         "rawType": "float64",
         "type": "float"
        },
        {
         "name": "winddirection",
         "rawType": "float64",
         "type": "float"
        },
        {
         "name": "windspeed",
         "rawType": "float64",
         "type": "float"
        }
       ],
       "conversionMethod": "pd.DataFrame",
       "ref": "e0ec8dae-a655-4f99-afa9-df769529d89f",
       "rows": [
        [
         "2190",
         "1",
         "1019.5",
         "17.5",
         "15.8",
         "12.7",
         "14.9",
         "96.0",
         "99.0",
         "0.0",
         "50.0",
         "24.3"
        ],
        [
         "2191",
         "2",
         "1016.5",
         "17.5",
         "16.5",
         "15.8",
         "15.1",
         "97.0",
         "99.0",
         "0.0",
         "50.0",
         "35.3"
        ],
        [
         "2192",
         "3",
         "1023.9",
         "11.2",
         "10.4",
         "9.4",
         "8.9",
         "86.0",
         "96.0",
         "0.0",
         "40.0",
         "16.9"
        ],
        [
         "2193",
         "4",
         "1022.9",
         "20.6",
         "17.3",
         "15.2",
         "9.5",
         "75.0",
         "45.0",
         "7.1",
         "20.0",
         "50.6"
        ],
        [
         "2194",
         "5",
         "1022.2",
         "16.1",
         "13.8",
         "6.4",
         "4.3",
         "68.0",
         "49.0",
         "9.2",
         "20.0",
         "19.4"
        ]
       ],
       "shape": {
        "columns": 11,
        "rows": 5
       }
      },
      "text/html": [
       "<div>\n",
       "<style scoped>\n",
       "    .dataframe tbody tr th:only-of-type {\n",
       "        vertical-align: middle;\n",
       "    }\n",
       "\n",
       "    .dataframe tbody tr th {\n",
       "        vertical-align: top;\n",
       "    }\n",
       "\n",
       "    .dataframe thead th {\n",
       "        text-align: right;\n",
       "    }\n",
       "</style>\n",
       "<table border=\"1\" class=\"dataframe\">\n",
       "  <thead>\n",
       "    <tr style=\"text-align: right;\">\n",
       "      <th></th>\n",
       "      <th>day</th>\n",
       "      <th>pressure</th>\n",
       "      <th>maxtemp</th>\n",
       "      <th>temparature</th>\n",
       "      <th>mintemp</th>\n",
       "      <th>dewpoint</th>\n",
       "      <th>humidity</th>\n",
       "      <th>cloud</th>\n",
       "      <th>sunshine</th>\n",
       "      <th>winddirection</th>\n",
       "      <th>windspeed</th>\n",
       "    </tr>\n",
       "    <tr>\n",
       "      <th>id</th>\n",
       "      <th></th>\n",
       "      <th></th>\n",
       "      <th></th>\n",
       "      <th></th>\n",
       "      <th></th>\n",
       "      <th></th>\n",
       "      <th></th>\n",
       "      <th></th>\n",
       "      <th></th>\n",
       "      <th></th>\n",
       "      <th></th>\n",
       "    </tr>\n",
       "  </thead>\n",
       "  <tbody>\n",
       "    <tr>\n",
       "      <th>2190</th>\n",
       "      <td>1</td>\n",
       "      <td>1019.5</td>\n",
       "      <td>17.5</td>\n",
       "      <td>15.8</td>\n",
       "      <td>12.7</td>\n",
       "      <td>14.9</td>\n",
       "      <td>96.0</td>\n",
       "      <td>99.0</td>\n",
       "      <td>0.0</td>\n",
       "      <td>50.0</td>\n",
       "      <td>24.3</td>\n",
       "    </tr>\n",
       "    <tr>\n",
       "      <th>2191</th>\n",
       "      <td>2</td>\n",
       "      <td>1016.5</td>\n",
       "      <td>17.5</td>\n",
       "      <td>16.5</td>\n",
       "      <td>15.8</td>\n",
       "      <td>15.1</td>\n",
       "      <td>97.0</td>\n",
       "      <td>99.0</td>\n",
       "      <td>0.0</td>\n",
       "      <td>50.0</td>\n",
       "      <td>35.3</td>\n",
       "    </tr>\n",
       "    <tr>\n",
       "      <th>2192</th>\n",
       "      <td>3</td>\n",
       "      <td>1023.9</td>\n",
       "      <td>11.2</td>\n",
       "      <td>10.4</td>\n",
       "      <td>9.4</td>\n",
       "      <td>8.9</td>\n",
       "      <td>86.0</td>\n",
       "      <td>96.0</td>\n",
       "      <td>0.0</td>\n",
       "      <td>40.0</td>\n",
       "      <td>16.9</td>\n",
       "    </tr>\n",
       "    <tr>\n",
       "      <th>2193</th>\n",
       "      <td>4</td>\n",
       "      <td>1022.9</td>\n",
       "      <td>20.6</td>\n",
       "      <td>17.3</td>\n",
       "      <td>15.2</td>\n",
       "      <td>9.5</td>\n",
       "      <td>75.0</td>\n",
       "      <td>45.0</td>\n",
       "      <td>7.1</td>\n",
       "      <td>20.0</td>\n",
       "      <td>50.6</td>\n",
       "    </tr>\n",
       "    <tr>\n",
       "      <th>2194</th>\n",
       "      <td>5</td>\n",
       "      <td>1022.2</td>\n",
       "      <td>16.1</td>\n",
       "      <td>13.8</td>\n",
       "      <td>6.4</td>\n",
       "      <td>4.3</td>\n",
       "      <td>68.0</td>\n",
       "      <td>49.0</td>\n",
       "      <td>9.2</td>\n",
       "      <td>20.0</td>\n",
       "      <td>19.4</td>\n",
       "    </tr>\n",
       "  </tbody>\n",
       "</table>\n",
       "</div>"
      ],
      "text/plain": [
       "      day  pressure  maxtemp  temparature  mintemp  dewpoint  humidity  cloud  \\\n",
       "id                                                                              \n",
       "2190    1    1019.5     17.5         15.8     12.7      14.9      96.0   99.0   \n",
       "2191    2    1016.5     17.5         16.5     15.8      15.1      97.0   99.0   \n",
       "2192    3    1023.9     11.2         10.4      9.4       8.9      86.0   96.0   \n",
       "2193    4    1022.9     20.6         17.3     15.2       9.5      75.0   45.0   \n",
       "2194    5    1022.2     16.1         13.8      6.4       4.3      68.0   49.0   \n",
       "\n",
       "      sunshine  winddirection  windspeed  \n",
       "id                                        \n",
       "2190       0.0           50.0       24.3  \n",
       "2191       0.0           50.0       35.3  \n",
       "2192       0.0           40.0       16.9  \n",
       "2193       7.1           20.0       50.6  \n",
       "2194       9.2           20.0       19.4  "
      ]
     },
     "execution_count": 8,
     "metadata": {},
     "output_type": "execute_result"
    }
   ],
   "source": [
    "df_test.head()"
   ]
  },
  {
   "cell_type": "code",
   "execution_count": 9,
   "metadata": {},
   "outputs": [
    {
     "data": {
      "text/plain": [
       "day              0\n",
       "pressure         0\n",
       "maxtemp          0\n",
       "temparature      0\n",
       "mintemp          0\n",
       "dewpoint         0\n",
       "humidity         0\n",
       "cloud            0\n",
       "sunshine         0\n",
       "winddirection    1\n",
       "windspeed        0\n",
       "dtype: int64"
      ]
     },
     "execution_count": 9,
     "metadata": {},
     "output_type": "execute_result"
    }
   ],
   "source": [
    "# sjekke om det er noen null-verdier\n",
    "# df_train.isnull().sum()\n",
    "df_test.isnull().sum()\n",
    "# df_train.info()\n",
    "# df_test.info()"
   ]
  },
  {
   "cell_type": "code",
   "execution_count": 10,
   "metadata": {},
   "outputs": [
    {
     "data": {
      "application/vnd.microsoft.datawrangler.viewer.v0+json": {
       "columns": [
        {
         "name": "index",
         "rawType": "object",
         "type": "string"
        },
        {
         "name": "day",
         "rawType": "float64",
         "type": "float"
        },
        {
         "name": "pressure",
         "rawType": "float64",
         "type": "float"
        },
        {
         "name": "maxtemp",
         "rawType": "float64",
         "type": "float"
        },
        {
         "name": "temparature",
         "rawType": "float64",
         "type": "float"
        },
        {
         "name": "mintemp",
         "rawType": "float64",
         "type": "float"
        },
        {
         "name": "dewpoint",
         "rawType": "float64",
         "type": "float"
        },
        {
         "name": "humidity",
         "rawType": "float64",
         "type": "float"
        },
        {
         "name": "cloud",
         "rawType": "float64",
         "type": "float"
        },
        {
         "name": "sunshine",
         "rawType": "float64",
         "type": "float"
        },
        {
         "name": "winddirection",
         "rawType": "float64",
         "type": "float"
        },
        {
         "name": "windspeed",
         "rawType": "float64",
         "type": "float"
        }
       ],
       "conversionMethod": "pd.DataFrame",
       "ref": "67f332fe-0e68-4660-ab43-0960beec1553",
       "rows": [
        [
         "count",
         "730.0",
         "730.0",
         "730.0",
         "730.0",
         "730.0",
         "730.0",
         "730.0",
         "730.0",
         "730.0",
         "729.0",
         "730.0"
        ],
        [
         "mean",
         "183.0",
         "1013.5030136986301",
         "26.37246575342466",
         "23.963287671232877",
         "22.11027397260274",
         "20.46013698630137",
         "82.66986301369863",
         "76.36027397260274",
         "3.664383561643836",
         "103.92318244170096",
         "22.484246575342464"
        ],
        [
         "std",
         "105.43827142424512",
         "5.505870837213761",
         "5.672521371737388",
         "5.278098250125918",
         "5.170743505744826",
         "5.391169173440469",
         "7.818713876035522",
         "17.93412147920091",
         "3.6392717681149596",
         "81.69545848522364",
         "9.954779017583027"
        ],
        [
         "min",
         "1.0",
         "1000.0",
         "7.4",
         "5.9",
         "4.2",
         "-0.0",
         "39.0",
         "0.0",
         "0.0",
         "10.0",
         "4.5"
        ],
        [
         "25%",
         "92.0",
         "1008.725",
         "21.6",
         "19.825",
         "17.825",
         "16.8",
         "77.25",
         "69.0",
         "0.325",
         "40.0",
         "14.5"
        ],
        [
         "50%",
         "183.0",
         "1012.7",
         "27.8",
         "25.65",
         "23.9",
         "22.3",
         "82.0",
         "83.0",
         "2.2",
         "70.0",
         "21.3"
        ],
        [
         "75%",
         "274.0",
         "1017.6",
         "31.0",
         "28.375",
         "26.4",
         "25.0",
         "89.0",
         "88.0",
         "6.675",
         "200.0",
         "28.4"
        ],
        [
         "max",
         "365.0",
         "1032.2",
         "35.8",
         "31.8",
         "29.1",
         "26.7",
         "98.0",
         "100.0",
         "11.8",
         "300.0",
         "59.5"
        ]
       ],
       "shape": {
        "columns": 11,
        "rows": 8
       }
      },
      "text/html": [
       "<div>\n",
       "<style scoped>\n",
       "    .dataframe tbody tr th:only-of-type {\n",
       "        vertical-align: middle;\n",
       "    }\n",
       "\n",
       "    .dataframe tbody tr th {\n",
       "        vertical-align: top;\n",
       "    }\n",
       "\n",
       "    .dataframe thead th {\n",
       "        text-align: right;\n",
       "    }\n",
       "</style>\n",
       "<table border=\"1\" class=\"dataframe\">\n",
       "  <thead>\n",
       "    <tr style=\"text-align: right;\">\n",
       "      <th></th>\n",
       "      <th>day</th>\n",
       "      <th>pressure</th>\n",
       "      <th>maxtemp</th>\n",
       "      <th>temparature</th>\n",
       "      <th>mintemp</th>\n",
       "      <th>dewpoint</th>\n",
       "      <th>humidity</th>\n",
       "      <th>cloud</th>\n",
       "      <th>sunshine</th>\n",
       "      <th>winddirection</th>\n",
       "      <th>windspeed</th>\n",
       "    </tr>\n",
       "  </thead>\n",
       "  <tbody>\n",
       "    <tr>\n",
       "      <th>count</th>\n",
       "      <td>730.000000</td>\n",
       "      <td>730.000000</td>\n",
       "      <td>730.000000</td>\n",
       "      <td>730.000000</td>\n",
       "      <td>730.000000</td>\n",
       "      <td>730.000000</td>\n",
       "      <td>730.000000</td>\n",
       "      <td>730.000000</td>\n",
       "      <td>730.000000</td>\n",
       "      <td>729.000000</td>\n",
       "      <td>730.000000</td>\n",
       "    </tr>\n",
       "    <tr>\n",
       "      <th>mean</th>\n",
       "      <td>183.000000</td>\n",
       "      <td>1013.503014</td>\n",
       "      <td>26.372466</td>\n",
       "      <td>23.963288</td>\n",
       "      <td>22.110274</td>\n",
       "      <td>20.460137</td>\n",
       "      <td>82.669863</td>\n",
       "      <td>76.360274</td>\n",
       "      <td>3.664384</td>\n",
       "      <td>103.923182</td>\n",
       "      <td>22.484247</td>\n",
       "    </tr>\n",
       "    <tr>\n",
       "      <th>std</th>\n",
       "      <td>105.438271</td>\n",
       "      <td>5.505871</td>\n",
       "      <td>5.672521</td>\n",
       "      <td>5.278098</td>\n",
       "      <td>5.170744</td>\n",
       "      <td>5.391169</td>\n",
       "      <td>7.818714</td>\n",
       "      <td>17.934121</td>\n",
       "      <td>3.639272</td>\n",
       "      <td>81.695458</td>\n",
       "      <td>9.954779</td>\n",
       "    </tr>\n",
       "    <tr>\n",
       "      <th>min</th>\n",
       "      <td>1.000000</td>\n",
       "      <td>1000.000000</td>\n",
       "      <td>7.400000</td>\n",
       "      <td>5.900000</td>\n",
       "      <td>4.200000</td>\n",
       "      <td>-0.000000</td>\n",
       "      <td>39.000000</td>\n",
       "      <td>0.000000</td>\n",
       "      <td>0.000000</td>\n",
       "      <td>10.000000</td>\n",
       "      <td>4.500000</td>\n",
       "    </tr>\n",
       "    <tr>\n",
       "      <th>25%</th>\n",
       "      <td>92.000000</td>\n",
       "      <td>1008.725000</td>\n",
       "      <td>21.600000</td>\n",
       "      <td>19.825000</td>\n",
       "      <td>17.825000</td>\n",
       "      <td>16.800000</td>\n",
       "      <td>77.250000</td>\n",
       "      <td>69.000000</td>\n",
       "      <td>0.325000</td>\n",
       "      <td>40.000000</td>\n",
       "      <td>14.500000</td>\n",
       "    </tr>\n",
       "    <tr>\n",
       "      <th>50%</th>\n",
       "      <td>183.000000</td>\n",
       "      <td>1012.700000</td>\n",
       "      <td>27.800000</td>\n",
       "      <td>25.650000</td>\n",
       "      <td>23.900000</td>\n",
       "      <td>22.300000</td>\n",
       "      <td>82.000000</td>\n",
       "      <td>83.000000</td>\n",
       "      <td>2.200000</td>\n",
       "      <td>70.000000</td>\n",
       "      <td>21.300000</td>\n",
       "    </tr>\n",
       "    <tr>\n",
       "      <th>75%</th>\n",
       "      <td>274.000000</td>\n",
       "      <td>1017.600000</td>\n",
       "      <td>31.000000</td>\n",
       "      <td>28.375000</td>\n",
       "      <td>26.400000</td>\n",
       "      <td>25.000000</td>\n",
       "      <td>89.000000</td>\n",
       "      <td>88.000000</td>\n",
       "      <td>6.675000</td>\n",
       "      <td>200.000000</td>\n",
       "      <td>28.400000</td>\n",
       "    </tr>\n",
       "    <tr>\n",
       "      <th>max</th>\n",
       "      <td>365.000000</td>\n",
       "      <td>1032.200000</td>\n",
       "      <td>35.800000</td>\n",
       "      <td>31.800000</td>\n",
       "      <td>29.100000</td>\n",
       "      <td>26.700000</td>\n",
       "      <td>98.000000</td>\n",
       "      <td>100.000000</td>\n",
       "      <td>11.800000</td>\n",
       "      <td>300.000000</td>\n",
       "      <td>59.500000</td>\n",
       "    </tr>\n",
       "  </tbody>\n",
       "</table>\n",
       "</div>"
      ],
      "text/plain": [
       "              day     pressure     maxtemp  temparature     mintemp  \\\n",
       "count  730.000000   730.000000  730.000000   730.000000  730.000000   \n",
       "mean   183.000000  1013.503014   26.372466    23.963288   22.110274   \n",
       "std    105.438271     5.505871    5.672521     5.278098    5.170744   \n",
       "min      1.000000  1000.000000    7.400000     5.900000    4.200000   \n",
       "25%     92.000000  1008.725000   21.600000    19.825000   17.825000   \n",
       "50%    183.000000  1012.700000   27.800000    25.650000   23.900000   \n",
       "75%    274.000000  1017.600000   31.000000    28.375000   26.400000   \n",
       "max    365.000000  1032.200000   35.800000    31.800000   29.100000   \n",
       "\n",
       "         dewpoint    humidity       cloud    sunshine  winddirection  \\\n",
       "count  730.000000  730.000000  730.000000  730.000000     729.000000   \n",
       "mean    20.460137   82.669863   76.360274    3.664384     103.923182   \n",
       "std      5.391169    7.818714   17.934121    3.639272      81.695458   \n",
       "min     -0.000000   39.000000    0.000000    0.000000      10.000000   \n",
       "25%     16.800000   77.250000   69.000000    0.325000      40.000000   \n",
       "50%     22.300000   82.000000   83.000000    2.200000      70.000000   \n",
       "75%     25.000000   89.000000   88.000000    6.675000     200.000000   \n",
       "max     26.700000   98.000000  100.000000   11.800000     300.000000   \n",
       "\n",
       "        windspeed  \n",
       "count  730.000000  \n",
       "mean    22.484247  \n",
       "std      9.954779  \n",
       "min      4.500000  \n",
       "25%     14.500000  \n",
       "50%     21.300000  \n",
       "75%     28.400000  \n",
       "max     59.500000  "
      ]
     },
     "execution_count": 10,
     "metadata": {},
     "output_type": "execute_result"
    }
   ],
   "source": [
    "df_train.describe()\n",
    "df_test.describe()"
   ]
  },
  {
   "cell_type": "code",
   "execution_count": 11,
   "metadata": {},
   "outputs": [
    {
     "name": "stdout",
     "output_type": "stream",
     "text": [
      "day              0\n",
      "pressure         0\n",
      "maxtemp          0\n",
      "temparature      0\n",
      "mintemp          0\n",
      "dewpoint         0\n",
      "humidity         0\n",
      "cloud            0\n",
      "sunshine         0\n",
      "winddirection    0\n",
      "windspeed        0\n",
      "dtype: int64\n"
     ]
    }
   ],
   "source": [
    "# fyll ut null-verdier i test med median-verdi\n",
    "df_test['winddirection'].fillna(df_test['winddirection'].median(), inplace=True)\n",
    "print(df_test.isnull().sum())"
   ]
  },
  {
   "cell_type": "markdown",
   "metadata": {},
   "source": [
    "Plot data for å sjekke forskjell"
   ]
  },
  {
   "cell_type": "code",
   "execution_count": 12,
   "metadata": {},
   "outputs": [
    {
     "data": {
      "image/png": "[encoded data removed]",
      "text/plain": [
       "<Figure size 640x480 with 1 Axes>"
      ]
     },
     "metadata": {},
     "output_type": "display_data"
    }
   ],
   "source": [
    "sns.countplot(x='rainfall', data=df_train)\n",
    "plt.show()"
   ]
  },
  {
   "cell_type": "code",
   "execution_count": 14,
   "metadata": {},
   "outputs": [
    {
     "data": {
      "image/png": "[encoded data removed]",
      "text/plain": [
       "<Figure size 640x480 with 1 Axes>"
      ]
     },
     "metadata": {},
     "output_type": "display_data"
    },
    {
     "data": {
      "text/plain": [
       "<Figure size 800x600 with 0 Axes>"
      ]
     },
     "metadata": {},
     "output_type": "display_data"
    }
   ],
   "source": [
    "sns.histplot(df_train, x= 'temparature', hue= 'rainfall', kde=True)\n",
    "plt.figure(figsize =(8,6))\n",
    "plt.show()"
   ]
  },
  {
   "cell_type": "code",
   "execution_count": 16,
   "metadata": {},
   "outputs": [
    {
     "name": "stdout",
     "output_type": "stream",
     "text": [
      "                    day  pressure   maxtemp  temparature   mintemp  dewpoint  \\\n",
      "day            1.000000  0.005337  0.146294     0.153590  0.161475  0.137929   \n",
      "pressure       0.005337  1.000000 -0.800499    -0.816531 -0.814453 -0.817008   \n",
      "maxtemp        0.146294 -0.800499  1.000000     0.982932  0.965529  0.906703   \n",
      "temparature    0.153590 -0.816531  0.982932     1.000000  0.987150  0.933617   \n",
      "mintemp        0.161475 -0.814453  0.965529     0.987150  1.000000  0.941342   \n",
      "dewpoint       0.137929 -0.817008  0.906703     0.933617  0.941342  1.000000   \n",
      "humidity      -0.074048 -0.119949 -0.072615    -0.025016  0.009891  0.153390   \n",
      "cloud         -0.048175  0.098600 -0.289047    -0.249355 -0.219399 -0.088446   \n",
      "sunshine       0.060936 -0.257163  0.452387     0.414019  0.379497  0.249676   \n",
      "winddirection  0.024800 -0.643293  0.662235     0.668963  0.663828  0.643073   \n",
      "windspeed     -0.000199  0.266012 -0.354168    -0.342262 -0.328871 -0.312179   \n",
      "rainfall      -0.000462 -0.049886 -0.079304    -0.049660 -0.026841  0.081965   \n",
      "\n",
      "               humidity     cloud  sunshine  winddirection  windspeed  \\\n",
      "day           -0.074048 -0.048175  0.060936       0.024800  -0.000199   \n",
      "pressure      -0.119949  0.098600 -0.257163      -0.643293   0.266012   \n",
      "maxtemp       -0.072615 -0.289047  0.452387       0.662235  -0.354168   \n",
      "temparature   -0.025016 -0.249355  0.414019       0.668963  -0.342262   \n",
      "mintemp        0.009891 -0.219399  0.379497       0.663828  -0.328871   \n",
      "dewpoint       0.153390 -0.088446  0.249676       0.643073  -0.312179   \n",
      "humidity       1.000000  0.584854 -0.541592      -0.012430   0.062285   \n",
      "cloud          0.584854  1.000000 -0.805128      -0.127087   0.184698   \n",
      "sunshine      -0.541592 -0.805128  1.000000       0.272235  -0.241752   \n",
      "winddirection -0.012430 -0.127087  0.272235       1.000000  -0.192417   \n",
      "windspeed      0.062285  0.184698 -0.241752      -0.192417   1.000000   \n",
      "rainfall       0.454213  0.641191 -0.555287      -0.006939   0.111625   \n",
      "\n",
      "               rainfall  \n",
      "day           -0.000462  \n",
      "pressure      -0.049886  \n",
      "maxtemp       -0.079304  \n",
      "temparature   -0.049660  \n",
      "mintemp       -0.026841  \n",
      "dewpoint       0.081965  \n",
      "humidity       0.454213  \n",
      "cloud          0.641191  \n",
      "sunshine      -0.555287  \n",
      "winddirection -0.006939  \n",
      "windspeed      0.111625  \n",
      "rainfall       1.000000  \n"
     ]
    },
    {
     "data": {
      "image/png": "[encoded data removed]",
      "text/plain": [
       "<Figure size 640x480 with 2 Axes>"
      ]
     },
     "metadata": {},
     "output_type": "display_data"
    }
   ],
   "source": [
    "corr_matrix = df_train.corr()\n",
    "print(corr_matrix)\n",
    "sns.heatmap(corr_matrix, annot=True, cmap='coolwarm')\n",
    "plt.show()"
   ]
  },
  {
   "cell_type": "markdown",
   "metadata": {},
   "source": [
    "Splitt opp datasett i X og y"
   ]
  },
  {
   "cell_type": "code",
   "execution_count": 18,
   "metadata": {},
   "outputs": [],
   "source": [
    "X= df_train.drop(['rainfall'], axis=1)\n",
    "y=df_train['rainfall']"
   ]
  },
  {
   "cell_type": "code",
   "execution_count": 19,
   "metadata": {},
   "outputs": [],
   "source": [
    "X_train, X_test, y_train, y_test = train_test_split(X,y, test_size=0.8, random_state =40)"
   ]
  },
  {
   "cell_type": "code",
   "execution_count": 20,
   "metadata": {},
   "outputs": [
    {
     "data": {
      "text/html": [
       "<style>#sk-container-id-1 {color: black;}#sk-container-id-1 pre{padding: 0;}#sk-container-id-1 div.sk-toggleable {background-color: white;}#sk-container-id-1 label.sk-toggleable__label {cursor: pointer;display: block;width: 100%;margin-bottom: 0;padding: 0.3em;box-sizing: border-box;text-align: center;}#sk-container-id-1 label.sk-toggleable__label-arrow:before {content: \"▸\";float: left;margin-right: 0.25em;color: #696969;}#sk-container-id-1 label.sk-toggleable__label-arrow:hover:before {color: black;}#sk-container-id-1 div.sk-estimator:hover label.sk-toggleable__label-arrow:before {color: black;}#sk-container-id-1 div.sk-toggleable__content {max-height: 0;max-width: 0;overflow: hidden;text-align: left;background-color: #f0f8ff;}#sk-container-id-1 div.sk-toggleable__content pre {margin: 0.2em;color: black;border-radius: 0.25em;background-color: #f0f8ff;}#sk-container-id-1 input.sk-toggleable__control:checked~div.sk-toggleable__content {max-height: 200px;max-width: 100%;overflow: auto;}#sk-container-id-1 input.sk-toggleable__control:checked~label.sk-toggleable__label-arrow:before {content: \"▾\";}#sk-container-id-1 div.sk-estimator input.sk-toggleable__control:checked~label.sk-toggleable__label {background-color: #d4ebff;}#sk-container-id-1 div.sk-label input.sk-toggleable__control:checked~label.sk-toggleable__label {background-color: #d4ebff;}#sk-container-id-1 input.sk-hidden--visually {border: 0;clip: rect(1px 1px 1px 1px);clip: rect(1px, 1px, 1px, 1px);height: 1px;margin: -1px;overflow: hidden;padding: 0;position: absolute;width: 1px;}#sk-container-id-1 div.sk-estimator {font-family: monospace;background-color: #f0f8ff;border: 1px dotted black;border-radius: 0.25em;box-sizing: border-box;margin-bottom: 0.5em;}#sk-container-id-1 div.sk-estimator:hover {background-color: #d4ebff;}#sk-container-id-1 div.sk-parallel-item::after {content: \"\";width: 100%;border-bottom: 1px solid gray;flex-grow: 1;}#sk-container-id-1 div.sk-label:hover label.sk-toggleable__label {background-color: #d4ebff;}#sk-container-id-1 div.sk-serial::before {content: \"\";position: absolute;border-left: 1px solid gray;box-sizing: border-box;top: 0;bottom: 0;left: 50%;z-index: 0;}#sk-container-id-1 div.sk-serial {display: flex;flex-direction: column;align-items: center;background-color: white;padding-right: 0.2em;padding-left: 0.2em;position: relative;}#sk-container-id-1 div.sk-item {position: relative;z-index: 1;}#sk-container-id-1 div.sk-parallel {display: flex;align-items: stretch;justify-content: center;background-color: white;position: relative;}#sk-container-id-1 div.sk-item::before, #sk-container-id-1 div.sk-parallel-item::before {content: \"\";position: absolute;border-left: 1px solid gray;box-sizing: border-box;top: 0;bottom: 0;left: 50%;z-index: -1;}#sk-container-id-1 div.sk-parallel-item {display: flex;flex-direction: column;z-index: 1;position: relative;background-color: white;}#sk-container-id-1 div.sk-parallel-item:first-child::after {align-self: flex-end;width: 50%;}#sk-container-id-1 div.sk-parallel-item:last-child::after {align-self: flex-start;width: 50%;}#sk-container-id-1 div.sk-parallel-item:only-child::after {width: 0;}#sk-container-id-1 div.sk-dashed-wrapped {border: 1px dashed gray;margin: 0 0.4em 0.5em 0.4em;box-sizing: border-box;padding-bottom: 0.4em;background-color: white;}#sk-container-id-1 div.sk-label label {font-family: monospace;font-weight: bold;display: inline-block;line-height: 1.2em;}#sk-container-id-1 div.sk-label-container {text-align: center;}#sk-container-id-1 div.sk-container {/* jupyter's `normalize.less` sets `[hidden] { display: none; }` but bootstrap.min.css set `[hidden] { display: none !important; }` so we also need the `!important` here to be able to override the default hidden behavior on the sphinx rendered scikit-learn.org. See: https://github.com/scikit-learn/scikit-learn/issues/21755 */display: inline-block !important;position: relative;}#sk-container-id-1 div.sk-text-repr-fallback {display: none;}</style><div id=\"sk-container-id-1\" class=\"sk-top-container\"><div class=\"sk-text-repr-fallback\"><pre>LogisticRegression(C=0.08858667904100823, solver=&#x27;newton-cg&#x27;)</pre><b>In a Jupyter environment, please rerun this cell to show the HTML representation or trust the notebook. <br />On GitHub, the HTML representation is unable to render, please try loading this page with nbviewer.org.</b></div><div class=\"sk-container\" hidden><div class=\"sk-item\"><div class=\"sk-estimator sk-toggleable\"><input class=\"sk-toggleable__control sk-hidden--visually\" id=\"sk-estimator-id-1\" type=\"checkbox\" checked><label for=\"sk-estimator-id-1\" class=\"sk-toggleable__label sk-toggleable__label-arrow\">LogisticRegression</label><div class=\"sk-toggleable__content\"><pre>LogisticRegression(C=0.08858667904100823, solver=&#x27;newton-cg&#x27;)</pre></div></div></div></div></div>"
      ],
      "text/plain": [
       "LogisticRegression(C=0.08858667904100823, solver='newton-cg')"
      ]
     },
     "execution_count": 20,
     "metadata": {},
     "output_type": "execute_result"
    }
   ],
   "source": [
    "model=LogisticRegression(C=0.08858667904100823, solver='newton-cg')\n",
    "model.fit(X_train, y_train)"
   ]
  },
  {
   "cell_type": "code",
   "execution_count": 21,
   "metadata": {},
   "outputs": [
    {
     "data": {
      "text/plain": [
       "0.867579908675799"
      ]
     },
     "execution_count": 21,
     "metadata": {},
     "output_type": "execute_result"
    }
   ],
   "source": [
    "y_pred = model.predict(X_test)\n",
    "accuracy_score(y_test,y_pred)"
   ]
  },
  {
   "cell_type": "code",
   "execution_count": 23,
   "metadata": {},
   "outputs": [],
   "source": [
    "#Prediction using the Test dataset\n",
    "pred = model.predict_proba(df_test)[:,1]"
   ]
  },
  {
   "cell_type": "code",
   "execution_count": 25,
   "metadata": {},
   "outputs": [],
   "source": [
    "#submission\n",
    "df_sub['rainfall'] = pred\n",
    "df_sub.to_csv('submission.csv', index=False)"
   ]
  },
  {
   "cell_type": "code",
   "execution_count": 26,
   "metadata": {},
   "outputs": [
    {
     "data": {
      "application/vnd.microsoft.datawrangler.viewer.v0+json": {
       "columns": [
        {
         "name": "index",
         "rawType": "int64",
         "type": "integer"
        },
        {
         "name": "id",
         "rawType": "int64",
         "type": "integer"
        },
        {
         "name": "rainfall",
         "rawType": "float64",
         "type": "float"
        }
       ],
       "conversionMethod": "pd.DataFrame",
       "ref": "853dfff4-4c44-4057-96d7-b613eace58f7",
       "rows": [
        [
         "0",
         "2190",
         "0.9769690853453362"
        ],
        [
         "1",
         "2191",
         "0.9833570993481534"
        ],
        [
         "2",
         "2192",
         "0.8960542545549391"
        ],
        [
         "3",
         "2193",
         "0.2181316401768262"
        ],
        [
         "4",
         "2194",
         "0.06716472316836074"
        ],
        [
         "5",
         "2195",
         "0.8968510546959219"
        ],
        [
         "6",
         "2196",
         "0.9591407217679531"
        ],
        [
         "7",
         "2197",
         "0.9813341472828397"
        ],
        [
         "8",
         "2198",
         "0.9610405058908177"
        ],
        [
         "9",
         "2199",
         "0.7042669409422626"
        ],
        [
         "10",
         "2200",
         "0.9805816867259766"
        ],
        [
         "11",
         "2201",
         "0.1357438244980721"
        ],
        [
         "12",
         "2202",
         "0.9807806654585759"
        ],
        [
         "13",
         "2203",
         "0.9733274350681059"
        ],
        [
         "14",
         "2204",
         "0.28253687507118186"
        ],
        [
         "15",
         "2205",
         "0.012959518172749967"
        ],
        [
         "16",
         "2206",
         "0.6899926975810471"
        ],
        [
         "17",
         "2207",
         "0.6025703582226677"
        ],
        [
         "18",
         "2208",
         "0.06779175979030923"
        ],
        [
         "19",
         "2209",
         "0.01525613355564567"
        ],
        [
         "20",
         "2210",
         "0.04349407379084597"
        ],
        [
         "21",
         "2211",
         "0.2279762073852231"
        ],
        [
         "22",
         "2212",
         "0.7458029917221516"
        ],
        [
         "23",
         "2213",
         "0.9889163781188164"
        ],
        [
         "24",
         "2214",
         "0.9535418338335645"
        ],
        [
         "25",
         "2215",
         "0.5701075265582445"
        ],
        [
         "26",
         "2216",
         "0.05360534620337573"
        ],
        [
         "27",
         "2217",
         "0.9849289084068296"
        ],
        [
         "28",
         "2218",
         "0.956148865531383"
        ],
        [
         "29",
         "2219",
         "0.49571884184391346"
        ],
        [
         "30",
         "2220",
         "0.9491665875318611"
        ],
        [
         "31",
         "2221",
         "0.9641888482389488"
        ],
        [
         "32",
         "2222",
         "0.8773499066729703"
        ],
        [
         "33",
         "2223",
         "0.9639930114936974"
        ],
        [
         "34",
         "2224",
         "0.9116274363601445"
        ],
        [
         "35",
         "2225",
         "0.9431288892950558"
        ],
        [
         "36",
         "2226",
         "0.36922964916359724"
        ],
        [
         "37",
         "2227",
         "0.9253445141702737"
        ],
        [
         "38",
         "2228",
         "0.8118766143276517"
        ],
        [
         "39",
         "2229",
         "0.9526516052024148"
        ],
        [
         "40",
         "2230",
         "0.9186311348287747"
        ],
        [
         "41",
         "2231",
         "0.9419220100976856"
        ],
        [
         "42",
         "2232",
         "0.10849959979205562"
        ],
        [
         "43",
         "2233",
         "0.9290564194173552"
        ],
        [
         "44",
         "2234",
         "0.8917517665032939"
        ],
        [
         "45",
         "2235",
         "0.1450061959293563"
        ],
        [
         "46",
         "2236",
         "0.3600193672570772"
        ],
        [
         "47",
         "2237",
         "0.9653193314557998"
        ],
        [
         "48",
         "2238",
         "0.26986562053659807"
        ],
        [
         "49",
         "2239",
         "0.8636341532364704"
        ]
       ],
       "shape": {
        "columns": 2,
        "rows": 730
       }
      },
      "text/html": [
       "<div>\n",
       "<style scoped>\n",
       "    .dataframe tbody tr th:only-of-type {\n",
       "        vertical-align: middle;\n",
       "    }\n",
       "\n",
       "    .dataframe tbody tr th {\n",
       "        vertical-align: top;\n",
       "    }\n",
       "\n",
       "    .dataframe thead th {\n",
       "        text-align: right;\n",
       "    }\n",
       "</style>\n",
       "<table border=\"1\" class=\"dataframe\">\n",
       "  <thead>\n",
       "    <tr style=\"text-align: right;\">\n",
       "      <th></th>\n",
       "      <th>id</th>\n",
       "      <th>rainfall</th>\n",
       "    </tr>\n",
       "  </thead>\n",
       "  <tbody>\n",
       "    <tr>\n",
       "      <th>0</th>\n",
       "      <td>2190</td>\n",
       "      <td>0.976969</td>\n",
       "    </tr>\n",
       "    <tr>\n",
       "      <th>1</th>\n",
       "      <td>2191</td>\n",
       "      <td>0.983357</td>\n",
       "    </tr>\n",
       "    <tr>\n",
       "      <th>2</th>\n",
       "      <td>2192</td>\n",
       "      <td>0.896054</td>\n",
       "    </tr>\n",
       "    <tr>\n",
       "      <th>3</th>\n",
       "      <td>2193</td>\n",
       "      <td>0.218132</td>\n",
       "    </tr>\n",
       "    <tr>\n",
       "      <th>4</th>\n",
       "      <td>2194</td>\n",
       "      <td>0.067165</td>\n",
       "    </tr>\n",
       "    <tr>\n",
       "      <th>...</th>\n",
       "      <td>...</td>\n",
       "      <td>...</td>\n",
       "    </tr>\n",
       "    <tr>\n",
       "      <th>725</th>\n",
       "      <td>2915</td>\n",
       "      <td>0.972184</td>\n",
       "    </tr>\n",
       "    <tr>\n",
       "      <th>726</th>\n",
       "      <td>2916</td>\n",
       "      <td>0.949952</td>\n",
       "    </tr>\n",
       "    <tr>\n",
       "      <th>727</th>\n",
       "      <td>2917</td>\n",
       "      <td>0.957284</td>\n",
       "    </tr>\n",
       "    <tr>\n",
       "      <th>728</th>\n",
       "      <td>2918</td>\n",
       "      <td>0.989735</td>\n",
       "    </tr>\n",
       "    <tr>\n",
       "      <th>729</th>\n",
       "      <td>2919</td>\n",
       "      <td>0.954134</td>\n",
       "    </tr>\n",
       "  </tbody>\n",
       "</table>\n",
       "<p>730 rows × 2 columns</p>\n",
       "</div>"
      ],
      "text/plain": [
       "       id  rainfall\n",
       "0    2190  0.976969\n",
       "1    2191  0.983357\n",
       "2    2192  0.896054\n",
       "3    2193  0.218132\n",
       "4    2194  0.067165\n",
       "..    ...       ...\n",
       "725  2915  0.972184\n",
       "726  2916  0.949952\n",
       "727  2917  0.957284\n",
       "728  2918  0.989735\n",
       "729  2919  0.954134\n",
       "\n",
       "[730 rows x 2 columns]"
      ]
     },
     "execution_count": 26,
     "metadata": {},
     "output_type": "execute_result"
    }
   ],
   "source": [
    "df_sub"
   ]
  },
  {
   "cell_type": "code",
   "execution_count": null,
   "metadata": {},
   "outputs": [],
   "source": []
  }
 ],
 "metadata": {
  "kernelspec": {
   "display_name": "base",
   "language": "python",
   "name": "python3"
  },
  "language_info": {
   "codemirror_mode": {
    "name": "ipython",
    "version": 3
   },
   "file_extension": ".py",
   "mimetype": "text/x-python",
   "name": "python",
   "nbconvert_exporter": "python",
   "pygments_lexer": "ipython3",
   "version": "3.11.5"
  }
 },
 "nbformat": 4,
 "nbformat_minor": 2
}
